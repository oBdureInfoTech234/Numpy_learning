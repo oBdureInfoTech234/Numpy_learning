{
 "cells": [
  {
   "cell_type": "markdown",
   "id": "0e03dadd-00e7-44f2-9133-ce13c5b6fc6a",
   "metadata": {},
   "source": [
    "## Numpy Basics"
   ]
  },
  {
   "cell_type": "markdown",
   "id": "2349b578-0723-463c-b9b3-bc00a26b5e20",
   "metadata": {},
   "source": [
    "##### Numpy stands for Numerical Python \n",
    "##### Numpy performs fastest mathematical calculations because it is built on C++ and as we know C++ is the fastest language known till now\n",
    "##### Another main reason for it's Fastest calculation is because of it's basics property of array and array uses vectorization "
   ]
  },
  {
   "cell_type": "code",
   "execution_count": null,
   "id": "b15d1bb3-e1b5-44c9-8d96-93940836f7fd",
   "metadata": {},
   "outputs": [],
   "source": []
  },
  {
   "cell_type": "markdown",
   "id": "8bd39d55-0161-4e4a-88cc-e49b134ced34",
   "metadata": {},
   "source": [
    "## Import Statement for numpy "
   ]
  },
  {
   "cell_type": "code",
   "execution_count": 1,
   "id": "bf10a96e-0684-4e7d-9cb6-3f6930da9305",
   "metadata": {},
   "outputs": [],
   "source": [
    "import numpy as np "
   ]
  },
  {
   "cell_type": "code",
   "execution_count": null,
   "id": "85f6a8b8-1ab7-4262-b40d-7e42dca7ca49",
   "metadata": {},
   "outputs": [],
   "source": []
  },
  {
   "cell_type": "markdown",
   "id": "654743cb-8da3-4fc6-9e45-a8942d6faf4b",
   "metadata": {},
   "source": [
    "## Version Checking in Numpy"
   ]
  },
  {
   "cell_type": "code",
   "execution_count": 2,
   "id": "14aa24d0-74cf-4d00-a32b-b0d23d129600",
   "metadata": {},
   "outputs": [
    {
     "data": {
      "text/plain": [
       "'1.24.3'"
      ]
     },
     "execution_count": 2,
     "metadata": {},
     "output_type": "execute_result"
    }
   ],
   "source": [
    "np.__version__"
   ]
  },
  {
   "cell_type": "code",
   "execution_count": null,
   "id": "21ac2541-b2c6-47ea-82d0-af2dc4e9e4dd",
   "metadata": {},
   "outputs": [],
   "source": []
  },
  {
   "cell_type": "markdown",
   "id": "6bd2aa16-5d09-4523-bad4-3f3d0591582d",
   "metadata": {},
   "source": [
    "## Documentation Checking in Numpym"
   ]
  },
  {
   "cell_type": "code",
   "execution_count": 3,
   "id": "2bda58ad-3f83-421b-94df-15c36c3f44ff",
   "metadata": {},
   "outputs": [
    {
     "data": {
      "text/plain": [
       "'\\nNumPy\\n=====\\n\\nProvides\\n  1. An array object of arbitrary homogeneous items\\n  2. Fast mathematical operations over arrays\\n  3. Linear Algebra, Fourier Transforms, Random Number Generation\\n\\nHow to use the documentation\\n----------------------------\\nDocumentation is available in two forms: docstrings provided\\nwith the code, and a loose standing reference guide, available from\\n`the NumPy homepage <https://numpy.org>`_.\\n\\nWe recommend exploring the docstrings using\\n`IPython <https://ipython.org>`_, an advanced Python shell with\\nTAB-completion and introspection capabilities.  See below for further\\ninstructions.\\n\\nThe docstring examples assume that `numpy` has been imported as ``np``::\\n\\n  >>> import numpy as np\\n\\nCode snippets are indicated by three greater-than signs::\\n\\n  >>> x = 42\\n  >>> x = x + 1\\n\\nUse the built-in ``help`` function to view a function\\'s docstring::\\n\\n  >>> help(np.sort)\\n  ... # doctest: +SKIP\\n\\nFor some objects, ``np.info(obj)`` may provide additional help.  This is\\nparticularly true if you see the line \"Help on ufunc object:\" at the top\\nof the help() page.  Ufuncs are implemented in C, not Python, for speed.\\nThe native Python help() does not know how to view their help, but our\\nnp.info() function does.\\n\\nTo search for documents containing a keyword, do::\\n\\n  >>> np.lookfor(\\'keyword\\')\\n  ... # doctest: +SKIP\\n\\nGeneral-purpose documents like a glossary and help on the basic concepts\\nof numpy are available under the ``doc`` sub-module::\\n\\n  >>> from numpy import doc\\n  >>> help(doc)\\n  ... # doctest: +SKIP\\n\\nAvailable subpackages\\n---------------------\\nlib\\n    Basic functions used by several sub-packages.\\nrandom\\n    Core Random Tools\\nlinalg\\n    Core Linear Algebra Tools\\nfft\\n    Core FFT routines\\npolynomial\\n    Polynomial tools\\ntesting\\n    NumPy testing tools\\ndistutils\\n    Enhancements to distutils with support for\\n    Fortran compilers support and more.\\n\\nUtilities\\n---------\\ntest\\n    Run numpy unittests\\nshow_config\\n    Show numpy build configuration\\ndual\\n    Overwrite certain functions with high-performance SciPy tools.\\n    Note: `numpy.dual` is deprecated.  Use the functions from NumPy or Scipy\\n    directly instead of importing them from `numpy.dual`.\\nmatlib\\n    Make everything matrices.\\n__version__\\n    NumPy version string\\n\\nViewing documentation using IPython\\n-----------------------------------\\n\\nStart IPython and import `numpy` usually under the alias ``np``: `import\\nnumpy as np`.  Then, directly past or use the ``%cpaste`` magic to paste\\nexamples into the shell.  To see which functions are available in `numpy`,\\ntype ``np.<TAB>`` (where ``<TAB>`` refers to the TAB key), or use\\n``np.*cos*?<ENTER>`` (where ``<ENTER>`` refers to the ENTER key) to narrow\\ndown the list.  To view the docstring for a function, use\\n``np.cos?<ENTER>`` (to view the docstring) and ``np.cos??<ENTER>`` (to view\\nthe source code).\\n\\nCopies vs. in-place operation\\n-----------------------------\\nMost of the functions in `numpy` return a copy of the array argument\\n(e.g., `np.sort`).  In-place versions of these functions are often\\navailable as array methods, i.e. ``x = np.array([1,2,3]); x.sort()``.\\nExceptions to this rule are documented.\\n\\n'"
      ]
     },
     "execution_count": 3,
     "metadata": {},
     "output_type": "execute_result"
    }
   ],
   "source": [
    "np.__doc__"
   ]
  },
  {
   "cell_type": "code",
   "execution_count": null,
   "id": "d3d200e3-366f-425b-ad6a-bbc2ec8e16d8",
   "metadata": {},
   "outputs": [],
   "source": []
  },
  {
   "cell_type": "markdown",
   "id": "4505105d-bbb1-4187-a4f0-ac98eb068f38",
   "metadata": {},
   "source": [
    "## Creating an array using python Data Structures in Numpy "
   ]
  },
  {
   "cell_type": "code",
   "execution_count": null,
   "id": "7e38cfe6-d964-4dfe-82a8-5333e4db5b63",
   "metadata": {},
   "outputs": [],
   "source": []
  },
  {
   "cell_type": "markdown",
   "id": "1c56ea45-77eb-4bfe-b776-fb96aee3bd36",
   "metadata": {},
   "source": [
    "#### using lists"
   ]
  },
  {
   "cell_type": "code",
   "execution_count": 5,
   "id": "adfd61f6-62bb-42d4-9e18-7879489759cb",
   "metadata": {},
   "outputs": [
    {
     "name": "stdout",
     "output_type": "stream",
     "text": [
      "[1 2 3 4 5]\n",
      "<class 'numpy.ndarray'>\n",
      "1\n"
     ]
    }
   ],
   "source": [
    "# creating a python lists\n",
    "l = [1,2,3,4,5]\n",
    "# converting list into an array using np.array() method of numpy\n",
    "arr = np.array(l)\n",
    "# checking the dimension of an array \n",
    "dimension = arr.ndim\n",
    "\n",
    "# printing the array and it's dimensions\n",
    "\n",
    "print(arr)\n",
    "print(type(arr))  # printing the type to know the conversion is successfull or not\n",
    "print(dimension)"
   ]
  },
  {
   "cell_type": "code",
   "execution_count": null,
   "id": "6c0e38ee-f59e-44ac-95c6-04ad7d7c9e20",
   "metadata": {},
   "outputs": [],
   "source": []
  },
  {
   "cell_type": "markdown",
   "id": "d4c627be-e9b2-4ae5-b5af-81f6a4af09f1",
   "metadata": {},
   "source": [
    "#### using tuple"
   ]
  },
  {
   "cell_type": "code",
   "execution_count": 6,
   "id": "34e3451c-1106-42a7-8740-949ca29a2164",
   "metadata": {},
   "outputs": [
    {
     "name": "stdout",
     "output_type": "stream",
     "text": [
      "[1 2 3 4 5]\n",
      "<class 'numpy.ndarray'>\n",
      "1\n"
     ]
    }
   ],
   "source": [
    "# creating a python tuple\n",
    "t = (1,2,3,4,5)\n",
    "# converting tuple into an array using np.array() method of numpy\n",
    "arr = np.array(t)\n",
    "# checking the dimension of an array \n",
    "dimension = arr.ndim\n",
    "\n",
    "# printing the array and it's dimensions\n",
    "\n",
    "print(arr)\n",
    "print(type(arr))  # printing the type to know the conversion is successfull or not\n",
    "print(dimension)"
   ]
  },
  {
   "cell_type": "code",
   "execution_count": null,
   "id": "4cd0266e-2d3c-419c-8301-595a7e5b8f43",
   "metadata": {},
   "outputs": [],
   "source": []
  },
  {
   "cell_type": "markdown",
   "id": "33e846eb-8130-4285-880a-0d75a1479226",
   "metadata": {},
   "source": [
    "#### using set"
   ]
  },
  {
   "cell_type": "code",
   "execution_count": 7,
   "id": "7df2e98f-b399-4754-b54f-abad048d56e1",
   "metadata": {},
   "outputs": [
    {
     "name": "stdout",
     "output_type": "stream",
     "text": [
      "{1, 2, 3, 4, 5}\n",
      "<class 'numpy.ndarray'>\n",
      "0\n"
     ]
    }
   ],
   "source": [
    "# creating a python set\n",
    "s = {1,2,3,4,5}\n",
    "# converting set into an array using np.array() method of numpy\n",
    "arr = np.array(s)\n",
    "# checking the dimension of an array \n",
    "dimension = arr.ndim\n",
    "\n",
    "# printing the array and it's dimensions\n",
    "\n",
    "print(arr)\n",
    "print(type(arr))  # printing the type to know the conversion is successfull or not\n",
    "print(dimension)"
   ]
  },
  {
   "cell_type": "code",
   "execution_count": null,
   "id": "d1d6bb9c-df1d-4546-9815-327c67df719c",
   "metadata": {},
   "outputs": [],
   "source": []
  },
  {
   "cell_type": "markdown",
   "id": "fc619625-423b-46d2-ad94-4e9d0aa8bacd",
   "metadata": {},
   "source": [
    "## Matrix in Numpy "
   ]
  },
  {
   "cell_type": "markdown",
   "id": "fa8addab-71d1-4988-af43-2dfdea55ef47",
   "metadata": {},
   "source": [
    "#### Matrix is a subclass of an array which is by default in 2D "
   ]
  },
  {
   "cell_type": "code",
   "execution_count": null,
   "id": "aa5abd4a-0e92-4a40-89e8-a8f02db3e65d",
   "metadata": {},
   "outputs": [],
   "source": []
  },
  {
   "cell_type": "markdown",
   "id": "2b66a4bc-db22-4875-939e-57db4690b598",
   "metadata": {},
   "source": [
    "### Converting python Data Structures into Matrix "
   ]
  },
  {
   "cell_type": "code",
   "execution_count": null,
   "id": "39ba95da-eda7-4b3b-a947-1b84b22b26a2",
   "metadata": {},
   "outputs": [],
   "source": []
  },
  {
   "cell_type": "markdown",
   "id": "77de866c-a0e4-4fbe-b7ab-e36fe22f5f8a",
   "metadata": {},
   "source": [
    "#### using lists"
   ]
  },
  {
   "cell_type": "code",
   "execution_count": 8,
   "id": "1b671161-eba2-419e-ae41-f33ff4f83172",
   "metadata": {},
   "outputs": [
    {
     "name": "stdout",
     "output_type": "stream",
     "text": [
      "[[1 2 3 4 5]]\n",
      "2\n"
     ]
    }
   ],
   "source": [
    "# creating a list\n",
    "l = [1,2,3,4,5]\n",
    "# converting list into matrix using np.matrix() method \n",
    "mat = np.matrix(l)\n",
    "# checking the dimension of mat\n",
    "dimension = mat.ndim\n",
    "\n",
    "# printing the converted matrix and dimension\n",
    "print(mat)\n",
    "print(dimension)"
   ]
  },
  {
   "cell_type": "code",
   "execution_count": null,
   "id": "1ecc62a4-66af-4e5a-81f6-b80aa1054bfe",
   "metadata": {},
   "outputs": [],
   "source": []
  },
  {
   "cell_type": "markdown",
   "id": "978e4348-af11-4019-bc24-67eae0f87d69",
   "metadata": {},
   "source": [
    "#### using tuple"
   ]
  },
  {
   "cell_type": "code",
   "execution_count": 9,
   "id": "e2d58a3f-2481-410d-a926-069365a89b11",
   "metadata": {},
   "outputs": [
    {
     "name": "stdout",
     "output_type": "stream",
     "text": [
      "[[1 2 3 4 5]]\n",
      "2\n"
     ]
    }
   ],
   "source": [
    "# creating a tuple\n",
    "t = [1,2,3,4,5]\n",
    "# converting tuple into matrix using np.matrix() method \n",
    "mat = np.matrix(t)\n",
    "# checking the dimension of mat\n",
    "dimension = mat.ndim\n",
    "\n",
    "# printing the converted matrix and dimension\n",
    "print(mat)\n",
    "print(dimension)"
   ]
  },
  {
   "cell_type": "code",
   "execution_count": null,
   "id": "a5e7e4e4-5f17-465e-882a-590dbf55093e",
   "metadata": {},
   "outputs": [],
   "source": []
  },
  {
   "cell_type": "markdown",
   "id": "d48c5c51-8712-4d2f-82b3-e2343daf02bc",
   "metadata": {},
   "source": [
    "#### using set"
   ]
  },
  {
   "cell_type": "code",
   "execution_count": 11,
   "id": "53b0037e-d28b-455f-ac61-b35bbf829ee2",
   "metadata": {},
   "outputs": [
    {
     "name": "stdout",
     "output_type": "stream",
     "text": [
      "[[{1, 2, 3, 4, 5}]]\n",
      "2\n"
     ]
    }
   ],
   "source": [
    "# creating a set \n",
    "s = {1,2,3,4,5}\n",
    "# converting set into matrix using np.matrix() method \n",
    "mat = np.matrix(s)\n",
    "# checking the dimension of mat\n",
    "dimension = mat.ndim\n",
    "\n",
    "# printing the converted matrix and dimension\n",
    "print(mat)\n",
    "print(dimension)"
   ]
  },
  {
   "cell_type": "markdown",
   "id": "a5045be1-7568-4096-b789-ac3ea19eb45a",
   "metadata": {},
   "source": [
    "#### Note : you can't pass  a 3 D data collection in np.matrix if you did this it will throw an error because matrix by default in 2 D "
   ]
  },
  {
   "cell_type": "code",
   "execution_count": 12,
   "id": "5d026db0-f74a-4905-9ba2-7b464e56eceb",
   "metadata": {},
   "outputs": [
    {
     "ename": "ValueError",
     "evalue": "matrix must be 2-dimensional",
     "output_type": "error",
     "traceback": [
      "\u001b[0;31m---------------------------------------------------------------------------\u001b[0m",
      "\u001b[0;31mValueError\u001b[0m                                Traceback (most recent call last)",
      "Cell \u001b[0;32mIn[12], line 4\u001b[0m\n\u001b[1;32m      2\u001b[0m l \u001b[38;5;241m=\u001b[39m [[[\u001b[38;5;241m1\u001b[39m,\u001b[38;5;241m2\u001b[39m,\u001b[38;5;241m3\u001b[39m],[\u001b[38;5;241m3\u001b[39m,\u001b[38;5;241m3\u001b[39m,\u001b[38;5;241m2\u001b[39m],[\u001b[38;5;241m3\u001b[39m,\u001b[38;5;241m32\u001b[39m,\u001b[38;5;241m2\u001b[39m]]]\n\u001b[1;32m      3\u001b[0m \u001b[38;5;66;03m# converting the list into matrix \u001b[39;00m\n\u001b[0;32m----> 4\u001b[0m mat \u001b[38;5;241m=\u001b[39m \u001b[43mnp\u001b[49m\u001b[38;5;241;43m.\u001b[39;49m\u001b[43mmatrix\u001b[49m\u001b[43m(\u001b[49m\u001b[43ml\u001b[49m\u001b[43m)\u001b[49m\n\u001b[1;32m      5\u001b[0m \u001b[38;5;66;03m# printint the matrix \u001b[39;00m\n\u001b[1;32m      6\u001b[0m \u001b[38;5;28mprint\u001b[39m(mat)\n",
      "File \u001b[0;32m~/.local/lib/python3.8/site-packages/numpy/matrixlib/defmatrix.py:149\u001b[0m, in \u001b[0;36mmatrix.__new__\u001b[0;34m(subtype, data, dtype, copy)\u001b[0m\n\u001b[1;32m    147\u001b[0m shape \u001b[38;5;241m=\u001b[39m arr\u001b[38;5;241m.\u001b[39mshape\n\u001b[1;32m    148\u001b[0m \u001b[38;5;28;01mif\u001b[39;00m (ndim \u001b[38;5;241m>\u001b[39m \u001b[38;5;241m2\u001b[39m):\n\u001b[0;32m--> 149\u001b[0m     \u001b[38;5;28;01mraise\u001b[39;00m \u001b[38;5;167;01mValueError\u001b[39;00m(\u001b[38;5;124m\"\u001b[39m\u001b[38;5;124mmatrix must be 2-dimensional\u001b[39m\u001b[38;5;124m\"\u001b[39m)\n\u001b[1;32m    150\u001b[0m \u001b[38;5;28;01melif\u001b[39;00m ndim \u001b[38;5;241m==\u001b[39m \u001b[38;5;241m0\u001b[39m:\n\u001b[1;32m    151\u001b[0m     shape \u001b[38;5;241m=\u001b[39m (\u001b[38;5;241m1\u001b[39m, \u001b[38;5;241m1\u001b[39m)\n",
      "\u001b[0;31mValueError\u001b[0m: matrix must be 2-dimensional"
     ]
    }
   ],
   "source": [
    "# creating a 3 D lists\n",
    "l = [[[1,2,3],[3,3,2],[3,32,2]]]\n",
    "# converting the list into matrix \n",
    "mat = np.matrix(l)\n",
    "# printint the matrix \n",
    "print(mat)"
   ]
  },
  {
   "cell_type": "markdown",
   "id": "cc12172b-1877-49f2-b715-fcf028a03397",
   "metadata": {},
   "source": [
    "## More Ways to convert python Data Structure into numpy array : "
   ]
  },
  {
   "cell_type": "markdown",
   "id": "eba4b7e5-561c-45a5-b937-6f49fa4dc88a",
   "metadata": {},
   "source": [
    "#### np.asarray()\n",
    "#### np.asanyarray()\n",
    "#### np.fromfunction()\n",
    "#### np.fromiter()\n",
    "#### np.fromstring()\n",
    "#### np.linspace()\n",
    "#### np.logspace()"
   ]
  },
  {
   "cell_type": "code",
   "execution_count": null,
   "id": "3fab620f-ef81-40ca-b55f-6de55a99090a",
   "metadata": {},
   "outputs": [],
   "source": []
  },
  {
   "cell_type": "markdown",
   "id": "250c6592-f57c-4831-82ff-5bcd2991344c",
   "metadata": {},
   "source": [
    "#### np.asrray()"
   ]
  },
  {
   "cell_type": "code",
   "execution_count": 17,
   "id": "ba717151-d06a-4781-9d5b-420466621ad2",
   "metadata": {},
   "outputs": [
    {
     "name": "stdout",
     "output_type": "stream",
     "text": [
      "[1 2 3 4]\n",
      "[1. 2. 3. 4.]\n"
     ]
    }
   ],
   "source": [
    "# creating a normal array with default parameters By default, the data-type is inferred from the input data.\n",
    "arr1 = np.asarray([1,2,3,4])\n",
    "# creating a array with changing parameter dtype and setting it to int to get all elements of intger type\n",
    "arr2 = np.asarray([1,2,3,4],dtype=float)\n",
    "# printing the arrays\n",
    "print(arr1)\n",
    "print(arr2)"
   ]
  },
  {
   "cell_type": "code",
   "execution_count": null,
   "id": "3d64ca06-1ca3-4503-a54f-b1487e532d7e",
   "metadata": {},
   "outputs": [],
   "source": []
  },
  {
   "cell_type": "markdown",
   "id": "f6bf1142-ffde-4d08-bcd8-729d84f20d5f",
   "metadata": {},
   "source": [
    "### np.asanyarray() : it will convert any collection into any array except those which is a subclass of array "
   ]
  },
  {
   "cell_type": "code",
   "execution_count": 23,
   "id": "a9844672-4993-4afc-a3ba-17a770b04c58",
   "metadata": {},
   "outputs": [
    {
     "name": "stdout",
     "output_type": "stream",
     "text": [
      "[1 2 3 4] <class 'numpy.ndarray'>\n",
      "[1. 2. 3. 4.] <class 'numpy.ndarray'>\n",
      "[[1. 2. 3. 4.]] <class 'numpy.matrix'>\n"
     ]
    }
   ],
   "source": [
    "# creating a normal array with default parameters By default, the data-type is inferred from the input data.\n",
    "arr1 = np.asanyarray([1,2,3,4])\n",
    "# creating a array with changing parameter dtype and setting it to int to get all elements of intger type\n",
    "arr2 = np.asanyarray([1,2,3,4],dtype=float)\n",
    "# printing the arrays\n",
    "print(arr1,type(arr1))\n",
    "print(arr2,type(arr2))\n",
    "\n",
    "\n",
    "# creating a matrix which is a subclass of array \n",
    "mat = np.matrix([1,2,3,4])\n",
    "# passing matrix as a parameter to np.asanyarray()\n",
    "arr3 = np.asanyarray(mat,dtype = float)\n",
    "# printing the arr and it's type\n",
    "print(arr3,type(arr3))"
   ]
  },
  {
   "cell_type": "code",
   "execution_count": null,
   "id": "d1ce2170-bf25-43fa-8c53-89291a7db916",
   "metadata": {},
   "outputs": [],
   "source": []
  },
  {
   "cell_type": "markdown",
   "id": "2fd18c7e-755a-4bd9-ac5c-01a54754b54b",
   "metadata": {},
   "source": [
    "#### np.fromfunction() : Construct an array by executing a function over each coordinate."
   ]
  },
  {
   "cell_type": "code",
   "execution_count": 43,
   "id": "81e0c4cd-17f8-44cd-8749-b22029a317c9",
   "metadata": {},
   "outputs": [
    {
     "name": "stdout",
     "output_type": "stream",
     "text": [
      "[[1 0]\n",
      " [0 1]]\n",
      "[[4 3 3 3]\n",
      " [4 3 3 3]\n",
      " [4 3 3 3]\n",
      " [4 3 3 3]]\n"
     ]
    },
    {
     "name": "stderr",
     "output_type": "stream",
     "text": [
      "/tmp/ipykernel_5369/1465332167.py:4: RuntimeWarning: invalid value encountered in remainder\n",
      "  arr2 = np.fromfunction(lambda i,j:np.where((i%j==0) & (i!=0) | (j!=0),3,4),shape=(4,4))\n"
     ]
    }
   ],
   "source": [
    "# creating an array\n",
    "arr1 = np.fromfunction(lambda i,j:np.where((i==j),1,0),shape=(2,2))\n",
    "# creating another array \n",
    "arr2 = np.fromfunction(lambda i,j:np.where((i%j==0) & (i!=0) | (j!=0),3,4),shape=(4,4))\n",
    "\n",
    "# printing the arrays \n",
    "print(arr1)\n",
    "print(arr2)"
   ]
  },
  {
   "cell_type": "code",
   "execution_count": 44,
   "id": "e6e7259d-9544-466b-816b-e4e98c169257",
   "metadata": {},
   "outputs": [
    {
     "data": {
      "text/plain": [
       "'/home/monsters/Documents/Daywise_learning/Date:4-06-2024_Topics: Numpy_basics'"
      ]
     },
     "execution_count": 44,
     "metadata": {},
     "output_type": "execute_result"
    }
   ],
   "source": [
    "pwd"
   ]
  },
  {
   "cell_type": "code",
   "execution_count": null,
   "id": "e9e71ead-e9c0-4805-845a-bc3102f9b62c",
   "metadata": {},
   "outputs": [],
   "source": [
    "cd"
   ]
  }
 ],
 "metadata": {
  "kernelspec": {
   "display_name": "Python 3 (ipykernel)",
   "language": "python",
   "name": "python3"
  },
  "language_info": {
   "codemirror_mode": {
    "name": "ipython",
    "version": 3
   },
   "file_extension": ".py",
   "mimetype": "text/x-python",
   "name": "python",
   "nbconvert_exporter": "python",
   "pygments_lexer": "ipython3",
   "version": "3.8.10"
  }
 },
 "nbformat": 4,
 "nbformat_minor": 5
}
