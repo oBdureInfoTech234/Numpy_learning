{
 "cells": [
  {
   "cell_type": "markdown",
   "id": "d0b00ca3-32e5-468f-ab95-143bec6e66de",
   "metadata": {},
   "source": [
    "## importing numpy "
   ]
  },
  {
   "cell_type": "code",
   "execution_count": 1,
   "id": "301d4976-3c70-4f5a-bf2d-d90a5f93d4bb",
   "metadata": {},
   "outputs": [],
   "source": [
    "import numpy as np"
   ]
  },
  {
   "cell_type": "code",
   "execution_count": null,
   "id": "1fda1172-a13c-4592-a04f-ebabdd61becb",
   "metadata": {},
   "outputs": [],
   "source": []
  },
  {
   "cell_type": "markdown",
   "id": "a9682fd0-fac2-4018-846c-21cfc8dd1ce5",
   "metadata": {},
   "source": [
    "### continuing array generated functions"
   ]
  },
  {
   "cell_type": "code",
   "execution_count": null,
   "id": "feba7122-2ed2-4556-b4c2-40ec375b941d",
   "metadata": {},
   "outputs": [],
   "source": []
  },
  {
   "cell_type": "markdown",
   "id": "fb50136b-9b37-4ea4-a601-c48bf719b02c",
   "metadata": {},
   "source": [
    "#### using np.fromiter() : Create a new 1-dimensional array from an iterable object(example : range())"
   ]
  },
  {
   "cell_type": "code",
   "execution_count": 4,
   "id": "64d352d3-2684-4771-9c71-41007d1a95ca",
   "metadata": {},
   "outputs": [
    {
     "name": "stdout",
     "output_type": "stream",
     "text": [
      "[ 0  1  4  9 16]\n",
      "<class 'numpy.ndarray'>\n",
      "1\n"
     ]
    }
   ],
   "source": [
    "# creating a iterable \n",
    "iterable = (i**2 for i in range(5))\n",
    "# creating array from iterable \n",
    "arr = np.fromiter(iterable,dtype=int)\n",
    "# printing the array \n",
    "print(arr)\n",
    "# printing the type of array \n",
    "print(type(arr))\n",
    "# printing the dimensions of arr\n",
    "dimension = arr.ndim\n",
    "print(dimension)"
   ]
  },
  {
   "cell_type": "code",
   "execution_count": 5,
   "id": "99f3516e-1e72-4db8-b2ae-71e99bd9cb17",
   "metadata": {},
   "outputs": [],
   "source": [
    "# creating 2 D array from iter"
   ]
  },
  {
   "cell_type": "code",
   "execution_count": 26,
   "id": "10124f3b-dc33-42b8-8a1c-5312d6be64ba",
   "metadata": {},
   "outputs": [
    {
     "name": "stdout",
     "output_type": "stream",
     "text": [
      "<generator object <genexpr> at 0x7f8e8e91e3c0>\n",
      "[[1 2 3]\n",
      " [2 3 4]\n",
      " [3 4 5]\n",
      " [4 5 6]\n",
      " [5 6 7]]\n",
      "<class 'numpy.ndarray'>\n",
      "2\n"
     ]
    }
   ],
   "source": [
    "# creating a iterable \n",
    "iterable = ((x+1, x+2,x+3) for x in range(5))\n",
    "# printing the iterable object \n",
    "print(iterable)\n",
    "# creating 2D array from iterable \n",
    "arr = np.fromiter(iterable,dtype=(int,3))\n",
    "# printing the array \n",
    "print(arr)\n",
    "# printing the type of array \n",
    "print(type(arr))\n",
    "# printing the dimensions of arr\n",
    "dimension = arr.ndim\n",
    "print(dimension)"
   ]
  },
  {
   "cell_type": "code",
   "execution_count": 28,
   "id": "82085a93-c31d-4347-8eda-10832a649f19",
   "metadata": {},
   "outputs": [],
   "source": []
  },
  {
   "cell_type": "markdown",
   "id": "9d4fb1f5-5fec-4a9f-9099-1a9705f0027a",
   "metadata": {},
   "source": [
    "#### using np.fromstring() : this will use to generate an array from string by passing the sep"
   ]
  },
  {
   "cell_type": "code",
   "execution_count": 29,
   "id": "09c5fb37-942f-4845-aa9d-4fc716d10638",
   "metadata": {},
   "outputs": [
    {
     "name": "stdout",
     "output_type": "stream",
     "text": [
      "[1 2 3 4 5]\n",
      "1\n"
     ]
    }
   ],
   "source": [
    "# creating a string \n",
    "string = '1,2,3,4,5'\n",
    "# creating array of int type using string \n",
    "arr = np.fromstring(string,dtype=int,sep=',')\n",
    "# printing the array and it's dimensions\n",
    "dimension = arr.ndim\n",
    "print(arr)\n",
    "print(dimension)"
   ]
  },
  {
   "cell_type": "code",
   "execution_count": null,
   "id": "6a58709a-0a4d-45ba-9a00-514d6659e6ab",
   "metadata": {},
   "outputs": [],
   "source": []
  },
  {
   "cell_type": "markdown",
   "id": "6953b2cb-a590-4dc6-ae37-5d084f888e42",
   "metadata": {},
   "source": [
    "#### using np.arange()"
   ]
  },
  {
   "cell_type": "markdown",
   "id": "2ae81ce4-a385-4154-9836-c7dc0cfea0a4",
   "metadata": {},
   "source": [
    "##### range() is not able to give float values between to floating point number to overcome this we used np.arange(start,end,stepsize) "
   ]
  },
  {
   "cell_type": "code",
   "execution_count": 32,
   "id": "4989ad92-565c-44a5-8cbd-d4c61f10d21f",
   "metadata": {},
   "outputs": [
    {
     "name": "stdout",
     "output_type": "stream",
     "text": [
      "[0.  0.2 0.4 0.6 0.8 1.  1.2 1.4 1.6 1.8 2.  2.2 2.4 2.6 2.8 3.  3.2 3.4\n",
      " 3.6 3.8 4.  4.2 4.4 4.6 4.8 5.  5.2 5.4 5.6 5.8 6.  6.2 6.4 6.6 6.8 7.\n",
      " 7.2 7.4 7.6 7.8 8.  8.2 8.4 8.6 8.8]\n"
     ]
    }
   ],
   "source": [
    "# creating an array using np.arange()\n",
    "arr = np.arange(0,9,0.2)\n",
    "# printing the array \n",
    "print(arr)"
   ]
  },
  {
   "cell_type": "markdown",
   "id": "22dcaa69-8013-4828-bb1a-4c7c619d8d7c",
   "metadata": {},
   "source": [
    "#### Note:  it includes start but does not include end "
   ]
  },
  {
   "cell_type": "code",
   "execution_count": null,
   "id": "98261a5c-5d42-4978-9668-d93da4b32692",
   "metadata": {},
   "outputs": [],
   "source": []
  },
  {
   "cell_type": "markdown",
   "id": "62bef7f2-de07-44d2-9cfd-59bcf89cda6a",
   "metadata": {},
   "source": [
    "#### using np.linspace(start,end,no.of values you want between start and end)"
   ]
  },
  {
   "cell_type": "code",
   "execution_count": 37,
   "id": "b8953c99-b4c0-443e-9d0a-2088e9371496",
   "metadata": {},
   "outputs": [
    {
     "name": "stdout",
     "output_type": "stream",
     "text": [
      "[ 3.          3.88888889  4.77777778  5.66666667  6.55555556  7.44444444\n",
      "  8.33333333  9.22222222 10.11111111 11.        ]\n"
     ]
    }
   ],
   "source": [
    "# creating an array using np.linspace\n",
    "arr = np.linspace(3,11,10)\n",
    "# printing the array \n",
    "print(arr)"
   ]
  },
  {
   "cell_type": "code",
   "execution_count": null,
   "id": "448df363-4dd6-46c7-b0d6-328624232cdd",
   "metadata": {},
   "outputs": [],
   "source": []
  },
  {
   "cell_type": "markdown",
   "id": "6192f4cc-6299-4007-9b87-0da337f80f93",
   "metadata": {},
   "source": [
    "#### using np.logspace(start,end,no.of values you want, logbase)"
   ]
  },
  {
   "cell_type": "code",
   "execution_count": 39,
   "id": "19248da6-a8f5-4227-b135-f39c1fe8079f",
   "metadata": {},
   "outputs": [
    {
     "name": "stdout",
     "output_type": "stream",
     "text": [
      "[2.00000000e+00 2.88049308e+00 4.14862018e+00 5.97503585e+00\n",
      " 8.60552469e+00 1.23940771e+01 1.78505267e+01 2.57091593e+01\n",
      " 3.70275276e+01 5.33287684e+01 7.68065741e+01 1.10620402e+02\n",
      " 1.59320651e+02 2.29461017e+02 3.30480435e+02 4.75973302e+02\n",
      " 6.85518900e+02 9.87316222e+02 1.42197877e+03 2.04800000e+03]\n"
     ]
    }
   ],
   "source": [
    "# creating array usin np.logspace()\n",
    "arr = np.logspace(1,11,20,base =2)\n",
    "# printing the arr\n",
    "print(arr)"
   ]
  },
  {
   "cell_type": "code",
   "execution_count": null,
   "id": "3e6b1f81-3601-4801-bf9a-70c39e57d18a",
   "metadata": {},
   "outputs": [],
   "source": []
  },
  {
   "cell_type": "markdown",
   "id": "7c392c41-27de-4a96-8c20-4a49064236dd",
   "metadata": {},
   "source": [
    "#### using np.zeros(shape)"
   ]
  },
  {
   "cell_type": "code",
   "execution_count": 41,
   "id": "66b466d0-1f39-4d2d-9342-1272e666c8a7",
   "metadata": {},
   "outputs": [
    {
     "name": "stdout",
     "output_type": "stream",
     "text": [
      "[[0 0 0]\n",
      " [0 0 0]\n",
      " [0 0 0]]\n"
     ]
    }
   ],
   "source": [
    "# creating an array using np.zeros()\n",
    "arr = np.zeros((3,3),dtype=int)\n",
    "# printing the array \n",
    "print(arr)"
   ]
  },
  {
   "cell_type": "code",
   "execution_count": null,
   "id": "aea64ce7-1d46-44f6-a52c-704c0a6e20e4",
   "metadata": {},
   "outputs": [],
   "source": []
  },
  {
   "cell_type": "markdown",
   "id": "31382169-ce59-4cec-ac26-5dd111ca0671",
   "metadata": {},
   "source": [
    "#### np.ones(shape)"
   ]
  },
  {
   "cell_type": "code",
   "execution_count": 42,
   "id": "fd09a105-bf2f-491d-b14e-476800d9c7d2",
   "metadata": {},
   "outputs": [
    {
     "name": "stdout",
     "output_type": "stream",
     "text": [
      "[[1 1 1 1]\n",
      " [1 1 1 1]\n",
      " [1 1 1 1]\n",
      " [1 1 1 1]]\n"
     ]
    }
   ],
   "source": [
    "# creating the array using np.ones\n",
    "arr = np.ones((4,4),dtype=int)\n",
    "# printing the array \n",
    "print(arr)"
   ]
  },
  {
   "cell_type": "code",
   "execution_count": null,
   "id": "66268280-8a06-445c-8a41-a4954bc64952",
   "metadata": {},
   "outputs": [],
   "source": []
  },
  {
   "cell_type": "markdown",
   "id": "f75d7b47-f807-42c9-a7a4-6109704a0df4",
   "metadata": {},
   "source": [
    "## Arithmatic Operations on array with single integer or floating point number "
   ]
  },
  {
   "cell_type": "code",
   "execution_count": null,
   "id": "fd1b7e60-c882-41a9-a7b3-44f3124c23a3",
   "metadata": {},
   "outputs": [],
   "source": []
  },
  {
   "cell_type": "markdown",
   "id": "2003f65e-c8bc-4df6-8608-d47616a71742",
   "metadata": {},
   "source": [
    "#### Addition"
   ]
  },
  {
   "cell_type": "code",
   "execution_count": 43,
   "id": "ee6886b0-e58c-4573-a091-8bff7db20dbd",
   "metadata": {},
   "outputs": [
    {
     "name": "stdout",
     "output_type": "stream",
     "text": [
      "[[6 6 6]\n",
      " [6 6 6]\n",
      " [6 6 6]]\n"
     ]
    }
   ],
   "source": [
    "# creating an array \n",
    "arr = np.ones((3,3),dtype=int)\n",
    "# performing addition\n",
    "new_arr = arr+5\n",
    "# printing the new array\n",
    "print(new_arr)"
   ]
  },
  {
   "cell_type": "code",
   "execution_count": null,
   "id": "afd12889-5103-4539-8408-976b5aa3871a",
   "metadata": {},
   "outputs": [],
   "source": []
  },
  {
   "cell_type": "code",
   "execution_count": 44,
   "id": "0d2947a7-74af-4ec1-9945-a2311d3ef389",
   "metadata": {},
   "outputs": [],
   "source": [
    "#### Subtraction"
   ]
  },
  {
   "cell_type": "code",
   "execution_count": 47,
   "id": "c8129ced-5f5d-4098-a13d-5fd2af867017",
   "metadata": {},
   "outputs": [
    {
     "name": "stdout",
     "output_type": "stream",
     "text": [
      "[[6 6 6]\n",
      " [6 6 6]\n",
      " [6 6 6]]\n",
      "\n",
      " Here is the result of Subtraction : \n",
      "\n",
      "[[3 3 3]\n",
      " [3 3 3]\n",
      " [3 3 3]]\n"
     ]
    }
   ],
   "source": [
    "# creating an array \n",
    "arr = np.ones((3,3),dtype=int)\n",
    "# performing addition\n",
    "new_arr = arr+5\n",
    "# printing the new array\n",
    "print(new_arr)\n",
    "\n",
    "# performing subtraction on new_arr\n",
    "newarr = new_arr-3\n",
    "# printing the result\n",
    "print('\\n Here is the result of Subtraction : \\n')\n",
    "print(newarr)"
   ]
  },
  {
   "cell_type": "markdown",
   "id": "2e6de73a-46bc-4600-9cbb-26c00b7b7109",
   "metadata": {},
   "source": [
    "Note : Same for Divison , modulus, multiplication "
   ]
  },
  {
   "cell_type": "code",
   "execution_count": null,
   "id": "70784ae2-f339-4980-96eb-11c5edd68c23",
   "metadata": {},
   "outputs": [],
   "source": []
  }
 ],
 "metadata": {
  "kernelspec": {
   "display_name": "Python 3 (ipykernel)",
   "language": "python",
   "name": "python3"
  },
  "language_info": {
   "codemirror_mode": {
    "name": "ipython",
    "version": 3
   },
   "file_extension": ".py",
   "mimetype": "text/x-python",
   "name": "python",
   "nbconvert_exporter": "python",
   "pygments_lexer": "ipython3",
   "version": "3.8.10"
  }
 },
 "nbformat": 4,
 "nbformat_minor": 5
}
